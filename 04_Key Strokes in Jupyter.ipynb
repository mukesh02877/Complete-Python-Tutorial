{
 "cells": [
  {
   "cell_type": "markdown",
   "id": "1a805bbe",
   "metadata": {},
   "source": [
    "# Key Strokes in Jupyter\n",
    "    -to add a new cell press alt + enter\n",
    "    \n",
    "    -to execute/run a cell press ctrl + enter \n",
    "    \n",
    "    -to delete a cell press esc , then press ctrl + d\n",
    "    \n",
    "    -to copy a group of cells and paste in another cell\n",
    "        go to the particular cell\n",
    "        press Esc key\n",
    "        press shift key + use upward or downward arrow keys to select the number of cells\n",
    "        ctrl + c to copy\n",
    "        go to a new cell\n",
    "        press ctrl + v to paste\n",
    "    \n",
    "     - Cell Notations\n",
    "         - Markdown - allows us to write comments about code without using \"#\"\n",
    "         - code  - allows us to write code and run the code\n",
    "         - rawnbconvert - allows to convert the notebook to another format like html etc\n",
    "      \n",
    "     - to create whitespace between 1 cell and another cell\n",
    "        - change the characteristic of the cell to Markdown                                 \n",
    "                                      \n",
    "        - enter 3 dashes in the cell and press alt + enter"
   ]
  },
  {
   "cell_type": "markdown",
   "id": "ae25308a",
   "metadata": {},
   "source": [
    "# Jupyter Features\n",
    "Auto indentation\n",
    "\n",
    "press tab Auto filling\n",
    "\n",
    "Press shift + tab for help/manuals"
   ]
  },
  {
   "cell_type": "code",
   "execution_count": null,
   "id": "4e2da3f2",
   "metadata": {},
   "outputs": [],
   "source": []
  }
 ],
 "metadata": {
  "kernelspec": {
   "display_name": "Python 3 (ipykernel)",
   "language": "python",
   "name": "python3"
  },
  "language_info": {
   "codemirror_mode": {
    "name": "ipython",
    "version": 3
   },
   "file_extension": ".py",
   "mimetype": "text/x-python",
   "name": "python",
   "nbconvert_exporter": "python",
   "pygments_lexer": "ipython3",
   "version": "3.9.7"
  }
 },
 "nbformat": 4,
 "nbformat_minor": 5
}
