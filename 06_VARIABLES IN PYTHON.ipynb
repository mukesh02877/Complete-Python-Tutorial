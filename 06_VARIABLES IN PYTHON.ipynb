{
 "cells": [
  {
   "cell_type": "markdown",
   "id": "b93c9dc8",
   "metadata": {},
   "source": [
    "### VARIABLES IN PYTHON"
   ]
  },
  {
   "cell_type": "markdown",
   "id": "a3c01483",
   "metadata": {},
   "source": [
    "Variables are containers for storing data values.Python has no command for declaring a variable.A variable is created the moment you first assign a value to it."
   ]
  },
  {
   "cell_type": "markdown",
   "id": "9fa63dc7",
   "metadata": {},
   "source": [
    "\n",
    "\n",
    "Variables are objects that hold a value \n",
    "\n",
    "eg - var1 = 100   --> 100 is assigned to the variable \"var1\" \n",
    "\n",
    "##### internally what happens\n",
    "var1 is assigned an address in the memory and the value of 100 is assigned to var1\n",
    "\n",
    "\n",
    "Rules in Python for variable names\n",
    "The names you use when creating these labels need to follow a few rules:\n",
    "\n",
    "1. Names can not start with a number.\n",
    "2. There can be no spaces in the name, use _ instead.  WRONG - VAR 1  RIGHT - VAR_1\n",
    "3. Can't use any of these symbols :'\",<>/?|\\()!@#$%^&*~-+\n",
    "4. It's considered best practice (PEP8) that names are lowercase.\n",
    "5. Avoid using the characters 'l' (lowercase letter el), 'O' (uppercase letter oh), \n",
    "   or 'I' (uppercase letter eye) as single character variable names.\n",
    "6. Avoid using words that have special meaning in Python like \"list\" and \"str\""
   ]
  },
  {
   "cell_type": "code",
   "execution_count": 1,
   "id": "6dffa2c8",
   "metadata": {},
   "outputs": [
    {
     "name": "stdout",
     "output_type": "stream",
     "text": [
      "5\n"
     ]
    }
   ],
   "source": [
    "### let us create an object called myvar0 and assign number 5 to it\n",
    "myvar0 = 5\n",
    "print(myvar0)"
   ]
  },
  {
   "cell_type": "code",
   "execution_count": 2,
   "id": "8fa94324",
   "metadata": {},
   "outputs": [
    {
     "name": "stdout",
     "output_type": "stream",
     "text": [
      "100\n",
      "200\n"
     ]
    },
    {
     "ename": "NameError",
     "evalue": "name 'myvar02' is not defined",
     "output_type": "error",
     "traceback": [
      "\u001b[1;31m---------------------------------------------------------------------------\u001b[0m",
      "\u001b[1;31mNameError\u001b[0m                                 Traceback (most recent call last)",
      "\u001b[1;32m~\\AppData\\Local\\Temp/ipykernel_11664/3469866638.py\u001b[0m in \u001b[0;36m<module>\u001b[1;34m\u001b[0m\n\u001b[0;32m      5\u001b[0m \u001b[0mprint\u001b[0m\u001b[1;33m(\u001b[0m\u001b[0mmyvar00\u001b[0m\u001b[1;33m)\u001b[0m\u001b[1;33m\u001b[0m\u001b[1;33m\u001b[0m\u001b[0m\n\u001b[0;32m      6\u001b[0m \u001b[0mprint\u001b[0m\u001b[1;33m(\u001b[0m\u001b[0mmyvar01\u001b[0m\u001b[1;33m)\u001b[0m\u001b[1;33m\u001b[0m\u001b[1;33m\u001b[0m\u001b[0m\n\u001b[1;32m----> 7\u001b[1;33m \u001b[0mprint\u001b[0m\u001b[1;33m(\u001b[0m\u001b[0mmyvar02\u001b[0m\u001b[1;33m)\u001b[0m  \u001b[1;31m### case sensitive..hence error\u001b[0m\u001b[1;33m\u001b[0m\u001b[1;33m\u001b[0m\u001b[0m\n\u001b[0m",
      "\u001b[1;31mNameError\u001b[0m: name 'myvar02' is not defined"
     ]
    }
   ],
   "source": [
    "### ONLY WITH JUPYTER THE FOLLOWING IS POSSIBLE\n",
    "myvar00=100 \n",
    "myvar01=200\n",
    "myVar02=3000\n",
    "print(myvar00)\n",
    "print(myvar01)\n",
    "print(myvar02)  ### case sensitive..hence error"
   ]
  },
  {
   "cell_type": "code",
   "execution_count": 3,
   "id": "a292c335",
   "metadata": {},
   "outputs": [],
   "source": [
    "### jupyter trick - type half of the word \"my\" and press \"TAB\" key. we will see list of words that start with word \"my\" \n"
   ]
  },
  {
   "cell_type": "code",
   "execution_count": 4,
   "id": "f2bb2fa6",
   "metadata": {},
   "outputs": [
    {
     "name": "stdout",
     "output_type": "stream",
     "text": [
      "5\n"
     ]
    }
   ],
   "source": [
    "my_var0 = 5\n",
    "print(my_var0)"
   ]
  },
  {
   "cell_type": "code",
   "execution_count": 5,
   "id": "e803d01e",
   "metadata": {},
   "outputs": [],
   "source": [
    "## jupyter trick- if we want to know what a particular function does. we can call python help in jupytre by pressing\n",
    "##  shift + tab key"
   ]
  },
  {
   "cell_type": "code",
   "execution_count": 6,
   "id": "5a82b3e1",
   "metadata": {},
   "outputs": [
    {
     "name": "stdout",
     "output_type": "stream",
     "text": [
      "105\n",
      "200\n",
      "95\n",
      "500\n",
      "0.05\n",
      "10000000000\n"
     ]
    }
   ],
   "source": [
    "### variable addition/subtraction/multiplication/division/powers\n",
    "my_var1 = 100\n",
    "\n",
    "print(my_var0 + my_var1)\n",
    "print(my_var1+my_var1)\n",
    "print(my_var1-my_var0)\n",
    "print(my_var1*my_var0)\n",
    "print(my_var0/my_var1)\n",
    "print(my_var1**my_var0)"
   ]
  },
  {
   "cell_type": "markdown",
   "id": "d3553191",
   "metadata": {},
   "source": [
    "### Concept of Dynamic Typing in Python\n",
    "type of the variable will change based on the value assigned to the variable\n",
    "vrey powerful, but can be abused if the programmer does not take enough precautions"
   ]
  },
  {
   "cell_type": "markdown",
   "id": "d3ab0f11",
   "metadata": {},
   "source": [
    "my_new_var0 = 100\n",
    "type(my_new_var0)"
   ]
  },
  {
   "cell_type": "code",
   "execution_count": 8,
   "id": "84ff783f",
   "metadata": {},
   "outputs": [
    {
     "data": {
      "text/plain": [
       "float"
      ]
     },
     "execution_count": 8,
     "metadata": {},
     "output_type": "execute_result"
    }
   ],
   "source": [
    "my_new_var0 = 199.99\n",
    "type(my_new_var0)"
   ]
  },
  {
   "cell_type": "code",
   "execution_count": 9,
   "id": "667b0771",
   "metadata": {},
   "outputs": [
    {
     "data": {
      "text/plain": [
       "str"
      ]
     },
     "execution_count": 9,
     "metadata": {},
     "output_type": "execute_result"
    }
   ],
   "source": [
    "my_new_var0 = 'this is a string'\n",
    "type(my_new_var0)"
   ]
  },
  {
   "cell_type": "code",
   "execution_count": 10,
   "id": "803d196f",
   "metadata": {},
   "outputs": [
    {
     "data": {
      "text/plain": [
       "list"
      ]
     },
     "execution_count": 10,
     "metadata": {},
     "output_type": "execute_result"
    }
   ],
   "source": [
    "my_new_var0 = [1,2,3]\n",
    "type(my_new_var0)"
   ]
  },
  {
   "cell_type": "markdown",
   "id": "4cf63753",
   "metadata": {},
   "source": [
    "### re assignment of variables \n",
    " concept of operating with a variable and assigning the output of operation to the same variable"
   ]
  },
  {
   "cell_type": "code",
   "execution_count": 11,
   "id": "f4f0b769",
   "metadata": {},
   "outputs": [
    {
     "name": "stdout",
     "output_type": "stream",
     "text": [
      "20\n"
     ]
    }
   ],
   "source": [
    "### reassignment\n",
    "my_var2 = 10\n",
    "my_var2 = my_var2 + my_var2\n",
    "print(my_var2)"
   ]
  },
  {
   "cell_type": "code",
   "execution_count": 12,
   "id": "d53abb42",
   "metadata": {},
   "outputs": [
    {
     "data": {
      "text/plain": [
       "int"
      ]
     },
     "execution_count": 12,
     "metadata": {},
     "output_type": "execute_result"
    }
   ],
   "source": [
    "type(my_var2)"
   ]
  },
  {
   "cell_type": "code",
   "execution_count": 13,
   "id": "b03e1073",
   "metadata": {},
   "outputs": [
    {
     "name": "stdout",
     "output_type": "stream",
     "text": [
      "20000\n"
     ]
    }
   ],
   "source": [
    "print(my_var2*1000)"
   ]
  },
  {
   "cell_type": "code",
   "execution_count": 14,
   "id": "1bebb636",
   "metadata": {},
   "outputs": [
    {
     "name": "stdout",
     "output_type": "stream",
     "text": [
      "<class 'int'>\n"
     ]
    }
   ],
   "source": [
    "### to know the data type of a variable use type function\n",
    "print(type(my_var0))"
   ]
  },
  {
   "cell_type": "code",
   "execution_count": 15,
   "id": "88287093",
   "metadata": {},
   "outputs": [
    {
     "name": "stdout",
     "output_type": "stream",
     "text": [
      "this is a string\n",
      "i am also a string\n",
      "<class 'str'>\n",
      "<class 'str'>\n"
     ]
    }
   ],
   "source": [
    "my_var3 = 'this is a string'\n",
    "my_var4 = \"i am also a string\"\n",
    "print(my_var3)\n",
    "print(my_var4)\n",
    "print(type(my_var3))\n",
    "print(type(my_var4))"
   ]
  },
  {
   "cell_type": "code",
   "execution_count": 16,
   "id": "4787cacf",
   "metadata": {},
   "outputs": [
    {
     "name": "stdout",
     "output_type": "stream",
     "text": [
      "10000\n",
      "<class 'int'>\n"
     ]
    }
   ],
   "source": [
    "### python follows what is called as \"dynamic typing\" \n",
    "### based on the data assigned the type of the variable can change\n",
    "my_var4 = 10000\n",
    "print(my_var4)\n",
    "print(type(my_var4))"
   ]
  },
  {
   "cell_type": "code",
   "execution_count": 17,
   "id": "d3412df8",
   "metadata": {},
   "outputs": [
    {
     "name": "stdout",
     "output_type": "stream",
     "text": [
      "999.99\n",
      "<class 'float'>\n"
     ]
    }
   ],
   "source": [
    "my_var4 = 999.99\n",
    "print(my_var4)\n",
    "print(type(my_var4))"
   ]
  },
  {
   "cell_type": "code",
   "execution_count": 18,
   "id": "592a70ed",
   "metadata": {},
   "outputs": [
    {
     "name": "stdout",
     "output_type": "stream",
     "text": [
      " first string \n",
      "<class 'str'>\n"
     ]
    }
   ],
   "source": [
    "my_var4 = \" first string \"\n",
    "print(my_var4)\n",
    "print(type(my_var4))"
   ]
  },
  {
   "cell_type": "code",
   "execution_count": 19,
   "id": "db17ff23",
   "metadata": {},
   "outputs": [],
   "source": [
    "my_var5 = ' second string '\n"
   ]
  },
  {
   "cell_type": "code",
   "execution_count": 20,
   "id": "ecd6fef8",
   "metadata": {},
   "outputs": [
    {
     "name": "stdout",
     "output_type": "stream",
     "text": [
      " first string  second string \n",
      "<class 'str'>\n"
     ]
    }
   ],
   "source": [
    "### string concatenation - two strings are added\n",
    "my_var6 = my_var4 + my_var5\n",
    "print(my_var6)\n",
    "print(type(my_var6))"
   ]
  },
  {
   "cell_type": "code",
   "execution_count": 21,
   "id": "47c4a1d0",
   "metadata": {},
   "outputs": [
    {
     "ename": "TypeError",
     "evalue": "can only concatenate str (not \"int\") to str",
     "output_type": "error",
     "traceback": [
      "\u001b[1;31m---------------------------------------------------------------------------\u001b[0m",
      "\u001b[1;31mTypeError\u001b[0m                                 Traceback (most recent call last)",
      "\u001b[1;32m~\\AppData\\Local\\Temp/ipykernel_11664/763101733.py\u001b[0m in \u001b[0;36m<module>\u001b[1;34m\u001b[0m\n\u001b[0;32m      1\u001b[0m \u001b[0mmy_var7\u001b[0m \u001b[1;33m=\u001b[0m \u001b[1;36m100\u001b[0m\u001b[1;33m\u001b[0m\u001b[1;33m\u001b[0m\u001b[0m\n\u001b[1;32m----> 2\u001b[1;33m \u001b[0mmy_var8\u001b[0m \u001b[1;33m=\u001b[0m \u001b[0mmy_var6\u001b[0m \u001b[1;33m+\u001b[0m \u001b[0mmy_var7\u001b[0m\u001b[1;33m\u001b[0m\u001b[1;33m\u001b[0m\u001b[0m\n\u001b[0m\u001b[0;32m      3\u001b[0m \u001b[0mprint\u001b[0m\u001b[1;33m(\u001b[0m\u001b[0mmy_var8\u001b[0m\u001b[1;33m)\u001b[0m\u001b[1;33m\u001b[0m\u001b[1;33m\u001b[0m\u001b[0m\n\u001b[0;32m      4\u001b[0m \u001b[1;33m\u001b[0m\u001b[0m\n\u001b[0;32m      5\u001b[0m \u001b[1;31m### gives an error as below\u001b[0m\u001b[1;33m\u001b[0m\u001b[1;33m\u001b[0m\u001b[0m\n",
      "\u001b[1;31mTypeError\u001b[0m: can only concatenate str (not \"int\") to str"
     ]
    }
   ],
   "source": [
    "my_var7 = 100\n",
    "my_var8 = my_var6 + my_var7\n",
    "print(my_var8)\n",
    "\n",
    "### gives an error as below            \n"
   ]
  },
  {
   "cell_type": "code",
   "execution_count": 22,
   "id": "4f36043c",
   "metadata": {},
   "outputs": [
    {
     "name": "stdout",
     "output_type": "stream",
     "text": [
      " first string  second string  100\n"
     ]
    }
   ],
   "source": [
    "print(my_var6,my_var7)"
   ]
  },
  {
   "cell_type": "code",
   "execution_count": 23,
   "id": "f3dd4ed4",
   "metadata": {},
   "outputs": [
    {
     "name": "stdout",
     "output_type": "stream",
     "text": [
      "string 1string 2\n"
     ]
    }
   ],
   "source": [
    "myvar_10 = 'string 1'\n",
    "myvar_11 = 'string 2'\n",
    "myvar_12 = myvar_10 + myvar_11\n",
    "print(myvar_12)"
   ]
  },
  {
   "cell_type": "code",
   "execution_count": null,
   "id": "e86386c6",
   "metadata": {},
   "outputs": [],
   "source": []
  }
 ],
 "metadata": {
  "kernelspec": {
   "display_name": "Python 3 (ipykernel)",
   "language": "python",
   "name": "python3"
  },
  "language_info": {
   "codemirror_mode": {
    "name": "ipython",
    "version": 3
   },
   "file_extension": ".py",
   "mimetype": "text/x-python",
   "name": "python",
   "nbconvert_exporter": "python",
   "pygments_lexer": "ipython3",
   "version": "3.9.7"
  }
 },
 "nbformat": 4,
 "nbformat_minor": 5
}
