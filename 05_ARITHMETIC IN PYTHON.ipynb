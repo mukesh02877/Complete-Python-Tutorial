{
 "cells": [
  {
   "cell_type": "markdown",
   "id": "8175ac11",
   "metadata": {},
   "source": [
    "# ARITHMETIC IN PYTHON"
   ]
  },
  {
   "cell_type": "markdown",
   "id": "b32ca761",
   "metadata": {},
   "source": [
    "Basic Arithmetic In Python\n",
    "\n",
    "1) Numbers in Python - INTEGERS(both +ve and -ve numbers), Floating point number (decimal numbers) 2) Basic Arithmetic Operations"
   ]
  },
  {
   "cell_type": "code",
   "execution_count": 1,
   "id": "39ea3020",
   "metadata": {},
   "outputs": [
    {
     "name": "stdout",
     "output_type": "stream",
     "text": [
      "this is arithmetic add\n",
      "3\n",
      "7\n"
     ]
    }
   ],
   "source": [
    "## TO PRINT IN PYTHON\n",
    "## \n",
    "print(\"this is arithmetic add\")\n",
    "print(1+2)\n",
    "print(3+4)"
   ]
  },
  {
   "cell_type": "code",
   "execution_count": 2,
   "id": "f1ac0b04",
   "metadata": {},
   "outputs": [
    {
     "name": "stdout",
     "output_type": "stream",
     "text": [
      "3\n",
      "7\n"
     ]
    }
   ],
   "source": [
    "## Addition \n",
    "### recommend a print statement\n",
    "print(1 + 2)\n",
    "print(3 + 4)\n",
    "\n",
    "### the output of 3+4 overrides the output of 1+2\n"
   ]
  },
  {
   "cell_type": "code",
   "execution_count": 3,
   "id": "599857e3",
   "metadata": {},
   "outputs": [
    {
     "name": "stdout",
     "output_type": "stream",
     "text": [
      "80\n",
      "-120\n"
     ]
    }
   ],
   "source": [
    "### subraction\n",
    "print(100-20)\n",
    "print(-100-20)"
   ]
  },
  {
   "cell_type": "code",
   "execution_count": 4,
   "id": "24a9b2d1",
   "metadata": {},
   "outputs": [
    {
     "name": "stdout",
     "output_type": "stream",
     "text": [
      "2000\n",
      "-2161.465\n"
     ]
    }
   ],
   "source": [
    "###multiplication\n",
    "print(100*20)\n",
    "print(-100.30  * 21.55)"
   ]
  },
  {
   "cell_type": "code",
   "execution_count": 5,
   "id": "2cba8ead",
   "metadata": {},
   "outputs": [
    {
     "name": "stdout",
     "output_type": "stream",
     "text": [
      "15.0\n",
      "1.5\n",
      "-10.526315789473685\n",
      "10.0\n"
     ]
    }
   ],
   "source": [
    "#division\n",
    "print(300/20)\n",
    "print(3/2)\n",
    "print(-200/19)\n",
    "print(-100/-10)"
   ]
  },
  {
   "cell_type": "code",
   "execution_count": 6,
   "id": "441b5898",
   "metadata": {},
   "outputs": [
    {
     "name": "stdout",
     "output_type": "stream",
     "text": [
      "1.0\n"
     ]
    }
   ],
   "source": [
    "### floor division ### quotient\n",
    "### the // operator it truncates the decimal without rounding and returns only the integer result\n",
    "print(7.0//4)"
   ]
  },
  {
   "cell_type": "code",
   "execution_count": 7,
   "id": "248428d4",
   "metadata": {},
   "outputs": [
    {
     "name": "stdout",
     "output_type": "stream",
     "text": [
      "3.0\n"
     ]
    }
   ],
   "source": [
    "### Modulo \n",
    "print(7.0 % 4)"
   ]
  },
  {
   "cell_type": "code",
   "execution_count": 8,
   "id": "fa3ad42d",
   "metadata": {},
   "outputs": [
    {
     "name": "stdout",
     "output_type": "stream",
     "text": [
      "8\n"
     ]
    }
   ],
   "source": [
    "### powers\n",
    "print(2**3)"
   ]
  },
  {
   "cell_type": "code",
   "execution_count": 9,
   "id": "0bc3383a",
   "metadata": {},
   "outputs": [
    {
     "name": "stdout",
     "output_type": "stream",
     "text": [
      "0.125\n"
     ]
    }
   ],
   "source": [
    "print(2**-3)"
   ]
  },
  {
   "cell_type": "code",
   "execution_count": 10,
   "id": "30f033bd",
   "metadata": {},
   "outputs": [
    {
     "name": "stdout",
     "output_type": "stream",
     "text": [
      "1.4142135623730951\n"
     ]
    }
   ],
   "source": [
    "print(2**0.5)"
   ]
  },
  {
   "cell_type": "markdown",
   "id": "c4f575e9",
   "metadata": {},
   "source": [
    "### BODMAS (Bracket, Off, Division, Multiplication, Addition, Subtraction)\n"
   ]
  },
  {
   "cell_type": "code",
   "execution_count": 11,
   "id": "5ec9e559",
   "metadata": {},
   "outputs": [
    {
     "name": "stdout",
     "output_type": "stream",
     "text": [
      "105\n"
     ]
    }
   ],
   "source": [
    "print(2 + 10 * 10 + 3)"
   ]
  },
  {
   "cell_type": "code",
   "execution_count": 12,
   "id": "1b071d14",
   "metadata": {},
   "outputs": [
    {
     "name": "stdout",
     "output_type": "stream",
     "text": [
      "156\n"
     ]
    }
   ],
   "source": [
    "print((2+10) * (10+3))"
   ]
  },
  {
   "cell_type": "code",
   "execution_count": 13,
   "id": "72ec5f78",
   "metadata": {},
   "outputs": [
    {
     "name": "stdout",
     "output_type": "stream",
     "text": [
      "5.551115123125783e-17\n"
     ]
    }
   ],
   "source": [
    "print((0.1+0.2)-(0.3))\n",
    "\n",
    "### ideally we should get a zero.\n",
    "### python and our computers follows what is called as \"floating point accuracy\"\n",
    "### even though for the naked eye, the answer is zero , python returns a number which extremely closer to zero, \n",
    "#### but not exactly zero\n",
    "#### 5.551115123125783e-17 can be translated as = 1/5.551115123125783 e**17\n",
    "\n",
    " "
   ]
  },
  {
   "cell_type": "code",
   "execution_count": null,
   "id": "c8a7c44b",
   "metadata": {},
   "outputs": [],
   "source": []
  }
 ],
 "metadata": {
  "kernelspec": {
   "display_name": "Python 3 (ipykernel)",
   "language": "python",
   "name": "python3"
  },
  "language_info": {
   "codemirror_mode": {
    "name": "ipython",
    "version": 3
   },
   "file_extension": ".py",
   "mimetype": "text/x-python",
   "name": "python",
   "nbconvert_exporter": "python",
   "pygments_lexer": "ipython3",
   "version": "3.9.7"
  }
 },
 "nbformat": 4,
 "nbformat_minor": 5
}
