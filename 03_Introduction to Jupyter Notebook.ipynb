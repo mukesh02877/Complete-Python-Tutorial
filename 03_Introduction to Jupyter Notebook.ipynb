{
 "cells": [
  {
   "cell_type": "markdown",
   "metadata": {},
   "source": [
    "Jupyter key board shortcuts"
   ]
  },
  {
   "cell_type": "markdown",
   "metadata": {},
   "source": [
    "# Jupyter   Refresher\n",
    "## Jupyter information available at      https://jupyter.org\n",
    "\n",
    "- Jupyter is an IDE(Integrated  Development Environment)\n",
    "- Open source application that allows us to create and share documents that contain live code, \n",
    "  equations,visualizations, narrative text \n",
    "- can be used for data cleaning, transformation,simulation,statistical modelling,data viz,machine learning and more!!!!\n",
    "- python code written in Jupyter environment has .ipynb extn\n",
    "  \n",
    "- Used for coding Python, R scripts ,Scala and packages like numpy,scipy,pandas,matplotlib,seaborn,plotly etc\n",
    "\n",
    "- note books can be shared with others using email,dropbox,github and the jupyter notebook viewer\n",
    "\n",
    "- interative output- code can produce html images,videos, etc\n",
    "\n",
    "- integration with big data tools like apache spar, from python, r and scale.\n",
    "\n",
    "- explore of data using pandas, scikit learn, ggplot, tensorflow etc"
   ]
  },
  {
   "cell_type": "markdown",
   "metadata": {},
   "source": [
    "## This is 3rd Video"
   ]
  },
  {
   "cell_type": "code",
   "execution_count": null,
   "metadata": {},
   "outputs": [],
   "source": []
  },
  {
   "cell_type": "code",
   "execution_count": null,
   "metadata": {},
   "outputs": [],
   "source": []
  }
 ],
 "metadata": {
  "kernelspec": {
   "display_name": "Python 3",
   "language": "python",
   "name": "python3"
  },
  "language_info": {
   "codemirror_mode": {
    "name": "ipython",
    "version": 3
   },
   "file_extension": ".py",
   "mimetype": "text/x-python",
   "name": "python",
   "nbconvert_exporter": "python",
   "pygments_lexer": "ipython3",
   "version": "3.6.4"
  }
 },
 "nbformat": 4,
 "nbformat_minor": 5
}
